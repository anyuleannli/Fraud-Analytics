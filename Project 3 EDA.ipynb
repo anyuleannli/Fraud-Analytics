{
 "cells": [
  {
   "cell_type": "code",
   "execution_count": 2,
   "metadata": {},
   "outputs": [],
   "source": [
    "import pandas as pd\n",
    "import numpy as np\n",
    "import scipy.stats as sps \n",
    "import matplotlib.pyplot as plt \n",
    "import seaborn as sns\n",
    "import sklearn as skl\n",
    "from sklearn import preprocessing \n",
    "%matplotlib inline"
   ]
  },
  {
   "cell_type": "code",
   "execution_count": 4,
   "metadata": {},
   "outputs": [
    {
     "name": "stdout",
     "output_type": "stream",
     "text": [
      "CPU times: user 1.86 s, sys: 243 ms, total: 2.1 s\n",
      "Wall time: 2.13 s\n"
     ]
    }
   ],
   "source": [
    "%%time\n",
    "mydata=pd.read_csv('applications data.csv')"
   ]
  },
  {
   "cell_type": "code",
   "execution_count": 5,
   "metadata": {},
   "outputs": [
    {
     "data": {
      "text/html": [
       "<div>\n",
       "<style scoped>\n",
       "    .dataframe tbody tr th:only-of-type {\n",
       "        vertical-align: middle;\n",
       "    }\n",
       "\n",
       "    .dataframe tbody tr th {\n",
       "        vertical-align: top;\n",
       "    }\n",
       "\n",
       "    .dataframe thead th {\n",
       "        text-align: right;\n",
       "    }\n",
       "</style>\n",
       "<table border=\"1\" class=\"dataframe\">\n",
       "  <thead>\n",
       "    <tr style=\"text-align: right;\">\n",
       "      <th></th>\n",
       "      <th>record</th>\n",
       "      <th>date</th>\n",
       "      <th>ssn</th>\n",
       "      <th>firstname</th>\n",
       "      <th>lastname</th>\n",
       "      <th>address</th>\n",
       "      <th>zip5</th>\n",
       "      <th>dob</th>\n",
       "      <th>homephone</th>\n",
       "      <th>fraud_label</th>\n",
       "    </tr>\n",
       "  </thead>\n",
       "  <tbody>\n",
       "    <tr>\n",
       "      <th>0</th>\n",
       "      <td>1</td>\n",
       "      <td>20160101</td>\n",
       "      <td>379070012</td>\n",
       "      <td>XRRAMMTR</td>\n",
       "      <td>SMJETJMJ</td>\n",
       "      <td>6861 EUTST PL</td>\n",
       "      <td>2765</td>\n",
       "      <td>19070626</td>\n",
       "      <td>1797504115</td>\n",
       "      <td>0</td>\n",
       "    </tr>\n",
       "    <tr>\n",
       "      <th>1</th>\n",
       "      <td>2</td>\n",
       "      <td>20160101</td>\n",
       "      <td>387482503</td>\n",
       "      <td>MAMSTUJR</td>\n",
       "      <td>RTTEMRRR</td>\n",
       "      <td>7280 URASA PL</td>\n",
       "      <td>57169</td>\n",
       "      <td>19340615</td>\n",
       "      <td>4164239415</td>\n",
       "      <td>1</td>\n",
       "    </tr>\n",
       "    <tr>\n",
       "      <th>2</th>\n",
       "      <td>3</td>\n",
       "      <td>20160101</td>\n",
       "      <td>200332444</td>\n",
       "      <td>SZMMUJEZS</td>\n",
       "      <td>EUSEZRAE</td>\n",
       "      <td>5581 RSREX LN</td>\n",
       "      <td>56721</td>\n",
       "      <td>19070626</td>\n",
       "      <td>216537580</td>\n",
       "      <td>0</td>\n",
       "    </tr>\n",
       "    <tr>\n",
       "      <th>3</th>\n",
       "      <td>4</td>\n",
       "      <td>20160101</td>\n",
       "      <td>747451317</td>\n",
       "      <td>SJJZSXRSZ</td>\n",
       "      <td>ETJXTXXS</td>\n",
       "      <td>1387 UJZXJ RD</td>\n",
       "      <td>35286</td>\n",
       "      <td>19440430</td>\n",
       "      <td>132144161</td>\n",
       "      <td>0</td>\n",
       "    </tr>\n",
       "    <tr>\n",
       "      <th>4</th>\n",
       "      <td>5</td>\n",
       "      <td>20160101</td>\n",
       "      <td>24065868</td>\n",
       "      <td>SSSXUEJMS</td>\n",
       "      <td>SSUUJXUZ</td>\n",
       "      <td>279 EAASA WY</td>\n",
       "      <td>3173</td>\n",
       "      <td>19980315</td>\n",
       "      <td>6101082272</td>\n",
       "      <td>0</td>\n",
       "    </tr>\n",
       "  </tbody>\n",
       "</table>\n",
       "</div>"
      ],
      "text/plain": [
       "   record      date        ssn  firstname  lastname        address   zip5  \\\n",
       "0       1  20160101  379070012   XRRAMMTR  SMJETJMJ  6861 EUTST PL   2765   \n",
       "1       2  20160101  387482503   MAMSTUJR  RTTEMRRR  7280 URASA PL  57169   \n",
       "2       3  20160101  200332444  SZMMUJEZS  EUSEZRAE  5581 RSREX LN  56721   \n",
       "3       4  20160101  747451317  SJJZSXRSZ  ETJXTXXS  1387 UJZXJ RD  35286   \n",
       "4       5  20160101   24065868  SSSXUEJMS  SSUUJXUZ   279 EAASA WY   3173   \n",
       "\n",
       "        dob   homephone  fraud_label  \n",
       "0  19070626  1797504115            0  \n",
       "1  19340615  4164239415            1  \n",
       "2  19070626   216537580            0  \n",
       "3  19440430   132144161            0  \n",
       "4  19980315  6101082272            0  "
      ]
     },
     "execution_count": 5,
     "metadata": {},
     "output_type": "execute_result"
    }
   ],
   "source": [
    "mydata.head()"
   ]
  },
  {
   "cell_type": "code",
   "execution_count": 6,
   "metadata": {},
   "outputs": [
    {
     "data": {
      "text/plain": [
       "(1000000, 10)"
      ]
     },
     "execution_count": 6,
     "metadata": {},
     "output_type": "execute_result"
    }
   ],
   "source": [
    "mydata.shape"
   ]
  },
  {
   "cell_type": "code",
   "execution_count": 7,
   "metadata": {},
   "outputs": [
    {
     "name": "stdout",
     "output_type": "stream",
     "text": [
      "1000000\n"
     ]
    }
   ],
   "source": [
    "numrecords = len(mydata)\n",
    "print(numrecords)"
   ]
  },
  {
   "cell_type": "code",
   "execution_count": 9,
   "metadata": {},
   "outputs": [
    {
     "data": {
      "text/plain": [
       "record          int64\n",
       "date            int64\n",
       "ssn             int64\n",
       "firstname      object\n",
       "lastname       object\n",
       "address        object\n",
       "zip5            int64\n",
       "dob             int64\n",
       "homephone       int64\n",
       "fraud_label     int64\n",
       "dtype: object"
      ]
     },
     "execution_count": 9,
     "metadata": {},
     "output_type": "execute_result"
    }
   ],
   "source": [
    "mydata.dtypes"
   ]
  },
  {
   "cell_type": "code",
   "execution_count": 10,
   "metadata": {},
   "outputs": [
    {
     "data": {
      "text/html": [
       "<div>\n",
       "<style scoped>\n",
       "    .dataframe tbody tr th:only-of-type {\n",
       "        vertical-align: middle;\n",
       "    }\n",
       "\n",
       "    .dataframe tbody tr th {\n",
       "        vertical-align: top;\n",
       "    }\n",
       "\n",
       "    .dataframe thead th {\n",
       "        text-align: right;\n",
       "    }\n",
       "</style>\n",
       "<table border=\"1\" class=\"dataframe\">\n",
       "  <thead>\n",
       "    <tr style=\"text-align: right;\">\n",
       "      <th></th>\n",
       "      <th>record</th>\n",
       "      <th>date</th>\n",
       "      <th>ssn</th>\n",
       "      <th>zip5</th>\n",
       "      <th>dob</th>\n",
       "      <th>homephone</th>\n",
       "      <th>fraud_label</th>\n",
       "    </tr>\n",
       "  </thead>\n",
       "  <tbody>\n",
       "    <tr>\n",
       "      <th>count</th>\n",
       "      <td>1000000.000000</td>\n",
       "      <td>1.000000e+06</td>\n",
       "      <td>1.000000e+06</td>\n",
       "      <td>1000000.000000</td>\n",
       "      <td>1.000000e+06</td>\n",
       "      <td>1.000000e+06</td>\n",
       "      <td>1000000.000000</td>\n",
       "    </tr>\n",
       "    <tr>\n",
       "      <th>mean</th>\n",
       "      <td>500000.500000</td>\n",
       "      <td>2.016067e+07</td>\n",
       "      <td>5.083415e+08</td>\n",
       "      <td>50073.333143</td>\n",
       "      <td>1.951725e+07</td>\n",
       "      <td>5.368716e+09</td>\n",
       "      <td>0.014393</td>\n",
       "    </tr>\n",
       "    <tr>\n",
       "      <th>std</th>\n",
       "      <td>288675.278933</td>\n",
       "      <td>3.449869e+02</td>\n",
       "      <td>2.934864e+08</td>\n",
       "      <td>28915.921546</td>\n",
       "      <td>3.568872e+05</td>\n",
       "      <td>3.082161e+09</td>\n",
       "      <td>0.119104</td>\n",
       "    </tr>\n",
       "    <tr>\n",
       "      <th>min</th>\n",
       "      <td>1.000000</td>\n",
       "      <td>2.016010e+07</td>\n",
       "      <td>3.600000e+01</td>\n",
       "      <td>2.000000</td>\n",
       "      <td>1.900010e+07</td>\n",
       "      <td>5.937990e+05</td>\n",
       "      <td>0.000000</td>\n",
       "    </tr>\n",
       "    <tr>\n",
       "      <th>25%</th>\n",
       "      <td>250000.750000</td>\n",
       "      <td>2.016040e+07</td>\n",
       "      <td>2.542176e+08</td>\n",
       "      <td>24992.000000</td>\n",
       "      <td>1.916092e+07</td>\n",
       "      <td>2.677134e+09</td>\n",
       "      <td>0.000000</td>\n",
       "    </tr>\n",
       "    <tr>\n",
       "      <th>50%</th>\n",
       "      <td>500000.500000</td>\n",
       "      <td>2.016070e+07</td>\n",
       "      <td>5.088144e+08</td>\n",
       "      <td>50492.000000</td>\n",
       "      <td>1.950090e+07</td>\n",
       "      <td>5.399910e+09</td>\n",
       "      <td>0.000000</td>\n",
       "    </tr>\n",
       "    <tr>\n",
       "      <th>75%</th>\n",
       "      <td>750000.250000</td>\n",
       "      <td>2.016100e+07</td>\n",
       "      <td>7.630924e+08</td>\n",
       "      <td>74496.000000</td>\n",
       "      <td>1.983032e+07</td>\n",
       "      <td>8.109241e+09</td>\n",
       "      <td>0.000000</td>\n",
       "    </tr>\n",
       "    <tr>\n",
       "      <th>max</th>\n",
       "      <td>1000000.000000</td>\n",
       "      <td>2.016123e+07</td>\n",
       "      <td>1.000000e+09</td>\n",
       "      <td>99999.000000</td>\n",
       "      <td>2.016103e+07</td>\n",
       "      <td>1.000000e+10</td>\n",
       "      <td>1.000000</td>\n",
       "    </tr>\n",
       "  </tbody>\n",
       "</table>\n",
       "</div>"
      ],
      "text/plain": [
       "               record          date           ssn            zip5  \\\n",
       "count  1000000.000000  1.000000e+06  1.000000e+06  1000000.000000   \n",
       "mean    500000.500000  2.016067e+07  5.083415e+08    50073.333143   \n",
       "std     288675.278933  3.449869e+02  2.934864e+08    28915.921546   \n",
       "min          1.000000  2.016010e+07  3.600000e+01        2.000000   \n",
       "25%     250000.750000  2.016040e+07  2.542176e+08    24992.000000   \n",
       "50%     500000.500000  2.016070e+07  5.088144e+08    50492.000000   \n",
       "75%     750000.250000  2.016100e+07  7.630924e+08    74496.000000   \n",
       "max    1000000.000000  2.016123e+07  1.000000e+09    99999.000000   \n",
       "\n",
       "                dob     homephone     fraud_label  \n",
       "count  1.000000e+06  1.000000e+06  1000000.000000  \n",
       "mean   1.951725e+07  5.368716e+09        0.014393  \n",
       "std    3.568872e+05  3.082161e+09        0.119104  \n",
       "min    1.900010e+07  5.937990e+05        0.000000  \n",
       "25%    1.916092e+07  2.677134e+09        0.000000  \n",
       "50%    1.950090e+07  5.399910e+09        0.000000  \n",
       "75%    1.983032e+07  8.109241e+09        0.000000  \n",
       "max    2.016103e+07  1.000000e+10        1.000000  "
      ]
     },
     "execution_count": 10,
     "metadata": {},
     "output_type": "execute_result"
    }
   ],
   "source": [
    "mydata.describe()"
   ]
  },
  {
   "cell_type": "code",
   "execution_count": 11,
   "metadata": {},
   "outputs": [
    {
     "data": {
      "text/plain": [
       "record         1000000\n",
       "date           1000000\n",
       "ssn            1000000\n",
       "firstname      1000000\n",
       "lastname       1000000\n",
       "address        1000000\n",
       "zip5           1000000\n",
       "dob            1000000\n",
       "homephone      1000000\n",
       "fraud_label    1000000\n",
       "dtype: int64"
      ]
     },
     "execution_count": 11,
     "metadata": {},
     "output_type": "execute_result"
    }
   ],
   "source": [
    "mydata.count()"
   ]
  },
  {
   "cell_type": "code",
   "execution_count": 12,
   "metadata": {},
   "outputs": [
    {
     "data": {
      "text/plain": [
       "array([20160101, 20160102, 20160103, 20160104, 20160105, 20160106,\n",
       "       20160107, 20160108, 20160109, 20160110, 20160111, 20160112,\n",
       "       20160113, 20160114, 20160115, 20160116, 20160117, 20160118,\n",
       "       20160119, 20160120, 20160121, 20160122, 20160123, 20160124,\n",
       "       20160125, 20160126, 20160127, 20160128, 20160129, 20160130,\n",
       "       20160131, 20160201, 20160202, 20160203, 20160204, 20160205,\n",
       "       20160206, 20160207, 20160208, 20160209, 20160210, 20160211,\n",
       "       20160212, 20160213, 20160214, 20160215, 20160216, 20160217,\n",
       "       20160218, 20160219, 20160220, 20160221, 20160222, 20160223,\n",
       "       20160224, 20160225, 20160226, 20160227, 20160228, 20160301,\n",
       "       20160302, 20160303, 20160304, 20160305, 20160306, 20160307,\n",
       "       20160308, 20160309, 20160310, 20160311, 20160312, 20160313,\n",
       "       20160314, 20160315, 20160316, 20160317, 20160318, 20160319,\n",
       "       20160320, 20160321, 20160322, 20160323, 20160324, 20160325,\n",
       "       20160326, 20160327, 20160328, 20160329, 20160330, 20160331,\n",
       "       20160401, 20160402, 20160403, 20160404, 20160405, 20160406,\n",
       "       20160407, 20160408, 20160409, 20160410, 20160411, 20160412,\n",
       "       20160413, 20160414, 20160415, 20160416, 20160417, 20160418,\n",
       "       20160419, 20160420, 20160421, 20160422, 20160423, 20160424,\n",
       "       20160425, 20160426, 20160427, 20160428, 20160429, 20160430,\n",
       "       20160501, 20160502, 20160503, 20160504, 20160505, 20160506,\n",
       "       20160507, 20160508, 20160509, 20160510, 20160511, 20160512,\n",
       "       20160513, 20160514, 20160515, 20160516, 20160517, 20160518,\n",
       "       20160519, 20160520, 20160521, 20160522, 20160523, 20160524,\n",
       "       20160525, 20160526, 20160527, 20160528, 20160529, 20160530,\n",
       "       20160531, 20160601, 20160602, 20160603, 20160604, 20160605,\n",
       "       20160606, 20160607, 20160608, 20160609, 20160610, 20160611,\n",
       "       20160612, 20160613, 20160614, 20160615, 20160616, 20160617,\n",
       "       20160618, 20160619, 20160620, 20160621, 20160622, 20160623,\n",
       "       20160624, 20160625, 20160626, 20160627, 20160628, 20160629,\n",
       "       20160630, 20160701, 20160702, 20160703, 20160704, 20160705,\n",
       "       20160706, 20160707, 20160708, 20160709, 20160710, 20160711,\n",
       "       20160712, 20160713, 20160714, 20160715, 20160716, 20160717,\n",
       "       20160718, 20160719, 20160720, 20160721, 20160722, 20160723,\n",
       "       20160724, 20160725, 20160726, 20160727, 20160728, 20160729,\n",
       "       20160730, 20160731, 20160801, 20160802, 20160803, 20160804,\n",
       "       20160805, 20160806, 20160807, 20160808, 20160809, 20160810,\n",
       "       20160811, 20160812, 20160813, 20160814, 20160815, 20160816,\n",
       "       20160817, 20160818, 20160819, 20160820, 20160821, 20160822,\n",
       "       20160823, 20160824, 20160825, 20160826, 20160827, 20160828,\n",
       "       20160829, 20160830, 20160831, 20160901, 20160902, 20160903,\n",
       "       20160904, 20160905, 20160906, 20160907, 20160908, 20160909,\n",
       "       20160910, 20160911, 20160912, 20160913, 20160914, 20160915,\n",
       "       20160916, 20160917, 20160918, 20160919, 20160920, 20160921,\n",
       "       20160922, 20160923, 20160924, 20160925, 20160926, 20160927,\n",
       "       20160928, 20160929, 20160930, 20161001, 20161002, 20161003,\n",
       "       20161004, 20161005, 20161006, 20161007, 20161008, 20161009,\n",
       "       20161010, 20161011, 20161012, 20161013, 20161014, 20161015,\n",
       "       20161016, 20161017, 20161018, 20161019, 20161020, 20161021,\n",
       "       20161022, 20161023, 20161024, 20161025, 20161026, 20161027,\n",
       "       20161028, 20161029, 20161030, 20161031, 20161101, 20161102,\n",
       "       20161103, 20161104, 20161105, 20161106, 20161107, 20161108,\n",
       "       20161109, 20161110, 20161111, 20161112, 20161113, 20161114,\n",
       "       20161115, 20161116, 20161117, 20161118, 20161119, 20161120,\n",
       "       20161121, 20161122, 20161123, 20161124, 20161125, 20161126,\n",
       "       20161127, 20161128, 20161129, 20161130, 20161201, 20161202,\n",
       "       20161203, 20161204, 20161205, 20161206, 20161207, 20161208,\n",
       "       20161209, 20161210, 20161211, 20161212, 20161213, 20161214,\n",
       "       20161215, 20161216, 20161217, 20161218, 20161219, 20161220,\n",
       "       20161221, 20161222, 20161223, 20161224, 20161225, 20161226,\n",
       "       20161227, 20161228, 20161229, 20161230, 20161231])"
      ]
     },
     "execution_count": 12,
     "metadata": {},
     "output_type": "execute_result"
    }
   ],
   "source": [
    "mydata['date'].unique()"
   ]
  },
  {
   "cell_type": "code",
   "execution_count": 14,
   "metadata": {},
   "outputs": [
    {
     "data": {
      "text/plain": [
       "365"
      ]
     },
     "execution_count": 14,
     "metadata": {},
     "output_type": "execute_result"
    }
   ],
   "source": [
    "len(mydata['date'].unique())"
   ]
  },
  {
   "cell_type": "code",
   "execution_count": 15,
   "metadata": {},
   "outputs": [
    {
     "data": {
      "text/plain": [
       "20160816    2877\n",
       "20160304    2861\n",
       "20160718    2849\n",
       "20160417    2848\n",
       "20160101    2840\n",
       "20161228    2832\n",
       "20160903    2832\n",
       "20160808    2832\n",
       "20160827    2831\n",
       "20160609    2831\n",
       "20160307    2831\n",
       "20161006    2831\n",
       "20160804    2828\n",
       "20160313    2826\n",
       "20160116    2819\n",
       "20160330    2818\n",
       "20160714    2818\n",
       "20160823    2817\n",
       "20161206    2815\n",
       "20161024    2814\n",
       "20161231    2814\n",
       "20160411    2813\n",
       "20160608    2813\n",
       "20160726    2813\n",
       "20161002    2811\n",
       "20160130    2810\n",
       "20161004    2810\n",
       "20160108    2809\n",
       "20160503    2809\n",
       "20160928    2809\n",
       "            ... \n",
       "20160704    2673\n",
       "20160909    2672\n",
       "20160802    2671\n",
       "20161010    2668\n",
       "20160705    2667\n",
       "20160113    2667\n",
       "20161216    2667\n",
       "20161117    2667\n",
       "20161126    2665\n",
       "20160515    2663\n",
       "20160122    2663\n",
       "20161123    2662\n",
       "20160711    2661\n",
       "20161113    2659\n",
       "20161226    2658\n",
       "20160625    2655\n",
       "20160412    2655\n",
       "20160324    2653\n",
       "20161104    2650\n",
       "20161210    2650\n",
       "20160817    2649\n",
       "20160629    2649\n",
       "20160919    2646\n",
       "20160310    2643\n",
       "20160907    2638\n",
       "20160320    2637\n",
       "20160409    2633\n",
       "20161029    2628\n",
       "20160822    2627\n",
       "20160311    2607\n",
       "Name: date, Length: 365, dtype: int64"
      ]
     },
     "execution_count": 15,
     "metadata": {},
     "output_type": "execute_result"
    }
   ],
   "source": [
    "mydata['date'].value_counts()"
   ]
  },
  {
   "cell_type": "code",
   "execution_count": 16,
   "metadata": {},
   "outputs": [
    {
     "data": {
      "text/plain": [
       "100.0"
      ]
     },
     "execution_count": 16,
     "metadata": {},
     "output_type": "execute_result"
    }
   ],
   "source": [
    "mydata['date'].count() * 100 / numrecords"
   ]
  },
  {
   "cell_type": "code",
   "execution_count": 31,
   "metadata": {},
   "outputs": [
    {
     "data": {
      "text/plain": [
       "0         2016-01-01\n",
       "1         2016-01-01\n",
       "2         2016-01-01\n",
       "3         2016-01-01\n",
       "4         2016-01-01\n",
       "5         2016-01-01\n",
       "6         2016-01-01\n",
       "7         2016-01-01\n",
       "8         2016-01-01\n",
       "9         2016-01-01\n",
       "10        2016-01-01\n",
       "11        2016-01-01\n",
       "12        2016-01-01\n",
       "13        2016-01-01\n",
       "14        2016-01-01\n",
       "15        2016-01-01\n",
       "16        2016-01-01\n",
       "17        2016-01-01\n",
       "18        2016-01-01\n",
       "19        2016-01-01\n",
       "20        2016-01-01\n",
       "21        2016-01-01\n",
       "22        2016-01-01\n",
       "23        2016-01-01\n",
       "24        2016-01-01\n",
       "25        2016-01-01\n",
       "26        2016-01-01\n",
       "27        2016-01-01\n",
       "28        2016-01-01\n",
       "29        2016-01-01\n",
       "             ...    \n",
       "999970    2016-12-31\n",
       "999971    2016-12-31\n",
       "999972    2016-12-31\n",
       "999973    2016-12-31\n",
       "999974    2016-12-31\n",
       "999975    2016-12-31\n",
       "999976    2016-12-31\n",
       "999977    2016-12-31\n",
       "999978    2016-12-31\n",
       "999979    2016-12-31\n",
       "999980    2016-12-31\n",
       "999981    2016-12-31\n",
       "999982    2016-12-31\n",
       "999983    2016-12-31\n",
       "999984    2016-12-31\n",
       "999985    2016-12-31\n",
       "999986    2016-12-31\n",
       "999987    2016-12-31\n",
       "999988    2016-12-31\n",
       "999989    2016-12-31\n",
       "999990    2016-12-31\n",
       "999991    2016-12-31\n",
       "999992    2016-12-31\n",
       "999993    2016-12-31\n",
       "999994    2016-12-31\n",
       "999995    2016-12-31\n",
       "999996    2016-12-31\n",
       "999997    2016-12-31\n",
       "999998    2016-12-31\n",
       "999999    2016-12-31\n",
       "Name: date, Length: 1000000, dtype: object"
      ]
     },
     "execution_count": 31,
     "metadata": {},
     "output_type": "execute_result"
    }
   ],
   "source": [
    "from datetime import datetime\n",
    "; \n",
    "mydata['date'] "
   ]
  },
  {
   "cell_type": "code",
   "execution_count": 34,
   "metadata": {},
   "outputs": [],
   "source": [
    "date = pd.to_datetime(mydata['date'])"
   ]
  },
  {
   "cell_type": "code",
   "execution_count": 35,
   "metadata": {},
   "outputs": [
    {
     "data": {
      "text/plain": [
       "0        2016-01-01\n",
       "1        2016-01-01\n",
       "2        2016-01-01\n",
       "3        2016-01-01\n",
       "4        2016-01-01\n",
       "5        2016-01-01\n",
       "6        2016-01-01\n",
       "7        2016-01-01\n",
       "8        2016-01-01\n",
       "9        2016-01-01\n",
       "10       2016-01-01\n",
       "11       2016-01-01\n",
       "12       2016-01-01\n",
       "13       2016-01-01\n",
       "14       2016-01-01\n",
       "15       2016-01-01\n",
       "16       2016-01-01\n",
       "17       2016-01-01\n",
       "18       2016-01-01\n",
       "19       2016-01-01\n",
       "20       2016-01-01\n",
       "21       2016-01-01\n",
       "22       2016-01-01\n",
       "23       2016-01-01\n",
       "24       2016-01-01\n",
       "25       2016-01-01\n",
       "26       2016-01-01\n",
       "27       2016-01-01\n",
       "28       2016-01-01\n",
       "29       2016-01-01\n",
       "            ...    \n",
       "999970   2016-12-31\n",
       "999971   2016-12-31\n",
       "999972   2016-12-31\n",
       "999973   2016-12-31\n",
       "999974   2016-12-31\n",
       "999975   2016-12-31\n",
       "999976   2016-12-31\n",
       "999977   2016-12-31\n",
       "999978   2016-12-31\n",
       "999979   2016-12-31\n",
       "999980   2016-12-31\n",
       "999981   2016-12-31\n",
       "999982   2016-12-31\n",
       "999983   2016-12-31\n",
       "999984   2016-12-31\n",
       "999985   2016-12-31\n",
       "999986   2016-12-31\n",
       "999987   2016-12-31\n",
       "999988   2016-12-31\n",
       "999989   2016-12-31\n",
       "999990   2016-12-31\n",
       "999991   2016-12-31\n",
       "999992   2016-12-31\n",
       "999993   2016-12-31\n",
       "999994   2016-12-31\n",
       "999995   2016-12-31\n",
       "999996   2016-12-31\n",
       "999997   2016-12-31\n",
       "999998   2016-12-31\n",
       "999999   2016-12-31\n",
       "Name: date, Length: 1000000, dtype: datetime64[ns]"
      ]
     },
     "execution_count": 35,
     "metadata": {},
     "output_type": "execute_result"
    }
   ],
   "source": [
    "date"
   ]
  },
  {
   "cell_type": "code",
   "execution_count": 37,
   "metadata": {},
   "outputs": [],
   "source": [
    "date.index = date.dt.to_period('m')\n",
    "date = date.groupby(level=0).size()"
   ]
  },
  {
   "cell_type": "code",
   "execution_count": 38,
   "metadata": {},
   "outputs": [
    {
     "name": "stdout",
     "output_type": "stream",
     "text": [
      "2016-01    85199\n",
      "2016-02    76792\n",
      "2016-03    84871\n",
      "2016-04    82515\n",
      "2016-05    85083\n",
      "2016-06    82035\n",
      "2016-07    84943\n",
      "2016-08    84830\n",
      "2016-09    82374\n",
      "2016-10    84865\n",
      "2016-11    81602\n",
      "2016-12    84891\n",
      "Freq: M, Name: date, dtype: int64\n"
     ]
    }
   ],
   "source": [
    "date = date.reindex(pd.period_range(date.index.min(), date.index.max(), freq='m'), fill_value=0)\n",
    "print (date)"
   ]
  },
  {
   "cell_type": "code",
   "execution_count": 39,
   "metadata": {},
   "outputs": [
    {
     "data": {
      "text/plain": [
       "<matplotlib.axes._subplots.AxesSubplot at 0x1a23067438>"
      ]
     },
     "execution_count": 39,
     "metadata": {},
     "output_type": "execute_result"
    },
    {
     "data": {
      "image/png": "[encoded data removed]",
      "text/plain": [
       "<Figure size 432x288 with 1 Axes>"
      ]
     },
     "metadata": {
      "needs_background": "light"
     },
     "output_type": "display_data"
    }
   ],
   "source": [
    "date.plot.bar()"
   ]
  },
  {
   "cell_type": "code",
   "execution_count": 40,
   "metadata": {},
   "outputs": [
    {
     "data": {
      "text/plain": [
       "835819"
      ]
     },
     "execution_count": 40,
     "metadata": {},
     "output_type": "execute_result"
    }
   ],
   "source": [
    "len(mydata['ssn'].unique())"
   ]
  },
  {
   "cell_type": "code",
   "execution_count": 41,
   "metadata": {},
   "outputs": [
    {
     "data": {
      "text/plain": [
       "999999999    16935\n",
       "938972725      114\n",
       "810776805       81\n",
       "829352390       74\n",
       "473311863       44\n",
       "165764866       34\n",
       "189622157       30\n",
       "295308935       30\n",
       "588726212       29\n",
       "163830210       29\n",
       "687424410       28\n",
       "826488428       25\n",
       "457346566       24\n",
       "77441357        24\n",
       "901493436       24\n",
       "407447121       24\n",
       "325064391       23\n",
       "258312431       23\n",
       "256440495       23\n",
       "406203526       23\n",
       "176836012       22\n",
       "108231635       22\n",
       "118692079       22\n",
       "907534928       22\n",
       "849295926       21\n",
       "727200669       21\n",
       "127072438       21\n",
       "205926169       21\n",
       "936716159       21\n",
       "365449201       21\n",
       "             ...  \n",
       "555709770        1\n",
       "886488129        1\n",
       "786443285        1\n",
       "280300599        1\n",
       "198509622        1\n",
       "517282869        1\n",
       "556508844        1\n",
       "767001702        1\n",
       "869786730        1\n",
       "332917867        1\n",
       "370179225        1\n",
       "479229080        1\n",
       "17829015         1\n",
       "32513173         1\n",
       "745542804        1\n",
       "854639758        1\n",
       "240178316        1\n",
       "332438661        1\n",
       "173059203        1\n",
       "699876478        1\n",
       "815223932        1\n",
       "362245243        1\n",
       "730365755        1\n",
       "811039865        1\n",
       "437744760        1\n",
       "555160692        1\n",
       "89796279         1\n",
       "60236914         1\n",
       "232246383        1\n",
       "622713275        1\n",
       "Name: ssn, Length: 835819, dtype: int64"
      ]
     },
     "execution_count": 41,
     "metadata": {},
     "output_type": "execute_result"
    }
   ],
   "source": [
    "mydata['ssn'].value_counts()"
   ]
  },
  {
   "cell_type": "code",
   "execution_count": 45,
   "metadata": {},
   "outputs": [
    {
     "data": {
      "image/png": "[encoded data removed]",
      "text/plain": [
       "<Figure size 432x288 with 1 Axes>"
      ]
     },
     "metadata": {
      "needs_background": "light"
     },
     "output_type": "display_data"
    }
   ],
   "source": [
    "ssn=mydata['ssn'].value_counts().head(25).plot(kind='bar')\n",
    "ssn.set_yscale('log')"
   ]
  },
  {
   "cell_type": "code",
   "execution_count": 85,
   "metadata": {},
   "outputs": [
    {
     "data": {
      "text/plain": [
       "78136"
      ]
     },
     "execution_count": 85,
     "metadata": {},
     "output_type": "execute_result"
    }
   ],
   "source": [
    "len(mydata['firstname'].unique())"
   ]
  },
  {
   "cell_type": "code",
   "execution_count": 86,
   "metadata": {},
   "outputs": [
    {
     "data": {
      "text/plain": [
       "EAMSTRMT     12658\n",
       "TXEMXZZM     10297\n",
       "UXXJJZTUZ    10235\n",
       "UJSRSMUEZ     9994\n",
       "SREZUJMJU     9688\n",
       "EASEXMJAT     7576\n",
       "SSSXUEJMS     6923\n",
       "SZUASTTA      6878\n",
       "EREMTZXXA     6717\n",
       "EAXRRUMUX     5686\n",
       "USSZMRERM     5511\n",
       "MJJJZUZTE     5294\n",
       "MAUJMJTU      5022\n",
       "RSZXMZRSU     5006\n",
       "MEERZUXXU     4966\n",
       "EZTERXZRA     4716\n",
       "RTMMTSZRZ     4618\n",
       "UXZUMTRTR     4600\n",
       "UXJAUZRMM     4580\n",
       "MSRUAREMU     4145\n",
       "AAASERAT      4095\n",
       "RURXRTZAM     4070\n",
       "MRETXAZMJ     4047\n",
       "XUERJXSTU     3839\n",
       "RSXTZRTS      3822\n",
       "XXMZSRXMA     3745\n",
       "ZZURXRJS      3712\n",
       "STRTETJUZ     3637\n",
       "EMTJTUTSM     3607\n",
       "MSXSMXSEM     3570\n",
       "             ...  \n",
       "EZZSAUZEX        1\n",
       "UJAZZSXES        1\n",
       "XSETMSEST        1\n",
       "TZEMMMSR         1\n",
       "SEMUXXRXJ        1\n",
       "UEZRUTAUE        1\n",
       "XRRXRJERU        1\n",
       "EMJMZTSES        1\n",
       "XEZXSSRTR        1\n",
       "TJEAMSJT         1\n",
       "RMAJRZETX        1\n",
       "RZASUJZAZ        1\n",
       "SZESJJRJM        1\n",
       "MRUEXJXZM        1\n",
       "UUEJMSJJJ        1\n",
       "EMZXAMRTS        1\n",
       "UZMZTATRM        1\n",
       "MUSUETSX         1\n",
       "EXXTEUAAE        1\n",
       "EJXURRZJZ        1\n",
       "RMXTTAXZT        1\n",
       "UZUMZERUR        1\n",
       "XTXMSRAX         1\n",
       "UJAZUZAZM        1\n",
       "XSEARZTJ         1\n",
       "XMUTMMSXU        1\n",
       "ETXTXUASE        1\n",
       "SSERMTSSE        1\n",
       "XXTAZUSET        1\n",
       "UAEEXMAMR        1\n",
       "Name: firstname, Length: 78136, dtype: int64"
      ]
     },
     "execution_count": 86,
     "metadata": {},
     "output_type": "execute_result"
    }
   ],
   "source": [
    "mydata['firstname'].value_counts()"
   ]
  },
  {
   "cell_type": "code",
   "execution_count": 87,
   "metadata": {},
   "outputs": [
    {
     "data": {
      "text/plain": [
       "<matplotlib.axes._subplots.AxesSubplot at 0x1a414d6c50>"
      ]
     },
     "execution_count": 87,
     "metadata": {},
     "output_type": "execute_result"
    },
    {
     "data": {
      "image/png": "[encoded data removed]",
      "text/plain": [
       "<Figure size 432x288 with 1 Axes>"
      ]
     },
     "metadata": {
      "needs_background": "light"
     },
     "output_type": "display_data"
    }
   ],
   "source": [
    "mydata['firstname'].value_counts().head(25).plot(kind='bar')"
   ]
  },
  {
   "cell_type": "code",
   "execution_count": 88,
   "metadata": {},
   "outputs": [
    {
     "data": {
      "text/plain": [
       "177001"
      ]
     },
     "execution_count": 88,
     "metadata": {},
     "output_type": "execute_result"
    }
   ],
   "source": [
    "len(mydata['lastname'].unique())"
   ]
  },
  {
   "cell_type": "code",
   "execution_count": 89,
   "metadata": {},
   "outputs": [
    {
     "data": {
      "text/plain": [
       "ERJSAXA     8580\n",
       "UMXUUUSE    7156\n",
       "UMARRMA     6832\n",
       "MEAXJUX     5492\n",
       "XMERRR      5451\n",
       "SXZXJRJT    4340\n",
       "EUSEZRAE    4173\n",
       "USMATTUR    4036\n",
       "ETERUXME    3762\n",
       "RJURSTXJ    3575\n",
       "RTZRTZAS    3559\n",
       "SRTRERMJ    3259\n",
       "RMRXAMX     3074\n",
       "RJRARJJU    3048\n",
       "SUERZXAT    3026\n",
       "EUXRMR      2757\n",
       "STXAAZZM    2594\n",
       "ETAJXSRE    2584\n",
       "EASASTEM    2535\n",
       "SMTTZJJX    2527\n",
       "MZRUMMJ     2507\n",
       "UXJEXUJR    2471\n",
       "ARUZTZM     2360\n",
       "SRRTAZTX    2309\n",
       "SJURETUX    2289\n",
       "UMUMAEZM    2275\n",
       "RMERUMUM    2056\n",
       "AJUZMTM     1989\n",
       "EMRSJTXE    1963\n",
       "RRUXSJRT    1901\n",
       "            ... \n",
       "RUSZETZM       1\n",
       "SZETJJMM       1\n",
       "SZEAESMZ       1\n",
       "SMJEZMA        1\n",
       "UMRJMZRU       1\n",
       "UAESRRJU       1\n",
       "UAJMEXSU       1\n",
       "UMSUTJZU       1\n",
       "UZJERZXT       1\n",
       "EZJAUXME       1\n",
       "XJZTRXE        1\n",
       "SXJJEASS       1\n",
       "EAMMUJUS       1\n",
       "UEXMASS        1\n",
       "EMAEMRJR       1\n",
       "UZSRJZTJ       1\n",
       "RUJZXXMZ       1\n",
       "SMEZSTRA       1\n",
       "SATUXEER       1\n",
       "EMTESRJZ       1\n",
       "UMUSMMUT       1\n",
       "SSZJSAA        1\n",
       "UZAZXEJU       1\n",
       "ESEEMRAU       1\n",
       "RTMSZZMT       1\n",
       "SJARXSMS       1\n",
       "SZESMZAX       1\n",
       "SMSSRAAZ       1\n",
       "ZRJMUUE        1\n",
       "USZZUAAZ       1\n",
       "Name: lastname, Length: 177001, dtype: int64"
      ]
     },
     "execution_count": 89,
     "metadata": {},
     "output_type": "execute_result"
    }
   ],
   "source": [
    "mydata['lastname'].value_counts()"
   ]
  },
  {
   "cell_type": "code",
   "execution_count": 90,
   "metadata": {},
   "outputs": [
    {
     "data": {
      "text/plain": [
       "<matplotlib.axes._subplots.AxesSubplot at 0x1a4169d198>"
      ]
     },
     "execution_count": 90,
     "metadata": {},
     "output_type": "execute_result"
    },
    {
     "data": {
      "image/png": "[encoded data removed]",
      "text/plain": [
       "<Figure size 432x288 with 1 Axes>"
      ]
     },
     "metadata": {
      "needs_background": "light"
     },
     "output_type": "display_data"
    }
   ],
   "source": [
    "mydata['lastname'].value_counts().head(25).plot(kind='bar')"
   ]
  },
  {
   "cell_type": "code",
   "execution_count": 91,
   "metadata": {},
   "outputs": [
    {
     "data": {
      "text/plain": [
       "828774"
      ]
     },
     "execution_count": 91,
     "metadata": {},
     "output_type": "execute_result"
    }
   ],
   "source": [
    "len(mydata['address'].unique())"
   ]
  },
  {
   "cell_type": "code",
   "execution_count": 92,
   "metadata": {},
   "outputs": [
    {
     "data": {
      "text/plain": [
       "123 MAIN ST       1079\n",
       "1775 XJXE LN        97\n",
       "7433 RAEZA ST       80\n",
       "8911 MZSU DR        74\n",
       "4907 RRAAU DR       73\n",
       "426 XUAXZ BLVD      57\n",
       "3545 ARMA ST        44\n",
       "606 EZZAU WY        44\n",
       "4530 ETSMX WY       42\n",
       "4292 RUSMM LN       41\n",
       "9693 ERJZA LN       40\n",
       "3142 MZZE WY        36\n",
       "5600 UETAR AVE      35\n",
       "1425 UAATX ST       35\n",
       "6637 UESAX LN       35\n",
       "4479 RMEAZ PL       34\n",
       "2611 AXXS CT        33\n",
       "9777 RMJJU WY       32\n",
       "8966 UAJER AVE      31\n",
       "2026 UZJTX CT       31\n",
       "1849 XUXRE DR       30\n",
       "8198 UMJAJ DR       30\n",
       "7651 RRMTE WY       30\n",
       "3253 EMMZX LN       30\n",
       "2105 RMTMA ST       30\n",
       "1693 RJTTT CT       30\n",
       "1569 XURRA RD       29\n",
       "7017 SJJUZ WY       29\n",
       "7157 UEMXE PL       29\n",
       "7793 XASZE LN       28\n",
       "                  ... \n",
       "6953 ETUEZ ST        1\n",
       "2577 EAAZX DR        1\n",
       "5029 EMSET RD        1\n",
       "3936 REESU DR        1\n",
       "1362 ESST PL         1\n",
       "330 URTZX AVE        1\n",
       "3192 UZSXA CT        1\n",
       "3426 EXAXJ CT        1\n",
       "820 EEURZ AVE        1\n",
       "894 SETEX WY         1\n",
       "1528 MXAU PL         1\n",
       "4550 UERXM LN        1\n",
       "6552 SRJEJ ST        1\n",
       "9847 XAXEJ ST        1\n",
       "7208 XSRRT RD        1\n",
       "1936 STJJM PL        1\n",
       "9247 RMMZJ AVE       1\n",
       "5471 SMUEM CT        1\n",
       "5950 XXJEJ DR        1\n",
       "7083 TEXJ DR         1\n",
       "2534 UJMMZ RD        1\n",
       "2680 EXTZ CT         1\n",
       "9424 XSMAE CT        1\n",
       "8737 XASJ CT         1\n",
       "4221 UUJJ DR         1\n",
       "421 SATES BLVD       1\n",
       "249 SSMJX CT         1\n",
       "4016 RXEZA ST        1\n",
       "6566 ERZZR WY        1\n",
       "25 EEASR PL          1\n",
       "Name: address, Length: 828774, dtype: int64"
      ]
     },
     "execution_count": 92,
     "metadata": {},
     "output_type": "execute_result"
    }
   ],
   "source": [
    "mydata['address'].value_counts()"
   ]
  },
  {
   "cell_type": "code",
   "execution_count": 94,
   "metadata": {},
   "outputs": [
    {
     "data": {
      "image/png": "[encoded data removed]",
      "text/plain": [
       "<Figure size 432x288 with 1 Axes>"
      ]
     },
     "metadata": {
      "needs_background": "light"
     },
     "output_type": "display_data"
    }
   ],
   "source": [
    "address=mydata['address'].value_counts().head(25).plot(kind='bar')\n",
    "address.set_yscale('log')"
   ]
  },
  {
   "cell_type": "code",
   "execution_count": 46,
   "metadata": {},
   "outputs": [
    {
     "data": {
      "text/plain": [
       "26370"
      ]
     },
     "execution_count": 46,
     "metadata": {},
     "output_type": "execute_result"
    }
   ],
   "source": [
    "len(mydata['zip5'].unique())"
   ]
  },
  {
   "cell_type": "code",
   "execution_count": 47,
   "metadata": {},
   "outputs": [
    {
     "data": {
      "text/plain": [
       "68138    823\n",
       "90042    514\n",
       "89835    489\n",
       "35227    478\n",
       "14931    459\n",
       "86500    438\n",
       "12700    436\n",
       "1362     434\n",
       "59695    432\n",
       "52317    432\n",
       "14455    431\n",
       "64597    431\n",
       "11848    428\n",
       "34031    425\n",
       "84983    419\n",
       "80692    408\n",
       "94992    406\n",
       "47208    399\n",
       "27132    397\n",
       "94887    397\n",
       "56155    385\n",
       "13053    378\n",
       "14200    375\n",
       "68992    374\n",
       "10664    373\n",
       "50780    372\n",
       "66902    371\n",
       "9298     371\n",
       "72192    370\n",
       "90755    368\n",
       "        ... \n",
       "37335      1\n",
       "47475      1\n",
       "31922      1\n",
       "25068      1\n",
       "93289      1\n",
       "11392      1\n",
       "88784      1\n",
       "50341      1\n",
       "86737      1\n",
       "36098      1\n",
       "11841      1\n",
       "18797      1\n",
       "15427      1\n",
       "51581      1\n",
       "97276      1\n",
       "82131      1\n",
       "74336      1\n",
       "5928       1\n",
       "35413      1\n",
       "19699      1\n",
       "52163      1\n",
       "41653      1\n",
       "37858      1\n",
       "63579      1\n",
       "40169      1\n",
       "37527      1\n",
       "54496      1\n",
       "73481      1\n",
       "52531      1\n",
       "69618      1\n",
       "Name: zip5, Length: 26370, dtype: int64"
      ]
     },
     "execution_count": 47,
     "metadata": {},
     "output_type": "execute_result"
    }
   ],
   "source": [
    "mydata['zip5'].value_counts()"
   ]
  },
  {
   "cell_type": "code",
   "execution_count": 48,
   "metadata": {},
   "outputs": [
    {
     "data": {
      "text/plain": [
       "<matplotlib.axes._subplots.AxesSubplot at 0x1a19d8b9b0>"
      ]
     },
     "execution_count": 48,
     "metadata": {},
     "output_type": "execute_result"
    },
    {
     "data": {
      "image/png": "[encoded data removed]",
      "text/plain": [
       "<Figure size 432x288 with 1 Axes>"
      ]
     },
     "metadata": {
      "needs_background": "light"
     },
     "output_type": "display_data"
    }
   ],
   "source": [
    "mydata['zip5'].value_counts().head(25).plot(kind='bar')"
   ]
  },
  {
   "cell_type": "code",
   "execution_count": 71,
   "metadata": {},
   "outputs": [
    {
     "data": {
      "text/plain": [
       "0         1907-06-26\n",
       "1         1934-06-15\n",
       "2         1907-06-26\n",
       "3         1944-04-30\n",
       "4         1998-03-15\n",
       "5         1948-06-13\n",
       "6         1964-03-18\n",
       "7         1919-05-28\n",
       "8         1990-03-14\n",
       "9         1975-01-27\n",
       "10        1940-01-26\n",
       "11        1947-12-11\n",
       "12        1900-01-22\n",
       "13        1940-09-02\n",
       "14        1936-08-29\n",
       "15        1999-12-28\n",
       "16        2008-04-01\n",
       "17        1950-01-10\n",
       "18        1990-11-13\n",
       "19        2006-08-15\n",
       "20        1977-03-28\n",
       "21        1987-07-06\n",
       "22        1958-08-30\n",
       "23        1977-05-18\n",
       "24        1938-12-24\n",
       "25        1969-05-21\n",
       "26        1988-11-11\n",
       "27        1915-11-19\n",
       "28        1989-06-13\n",
       "29        1907-06-26\n",
       "             ...    \n",
       "999970    1994-02-24\n",
       "999971    1996-03-19\n",
       "999972    1907-06-26\n",
       "999973    1951-05-03\n",
       "999974    1907-06-26\n",
       "999975    1928-05-01\n",
       "999976    1952-04-10\n",
       "999977    2001-05-22\n",
       "999978    2013-01-05\n",
       "999979    1944-02-19\n",
       "999980    1949-07-25\n",
       "999981    1912-12-02\n",
       "999982    1931-08-31\n",
       "999983    1957-01-18\n",
       "999984    1900-08-13\n",
       "999985    1915-07-01\n",
       "999986    1964-03-18\n",
       "999987    2006-12-14\n",
       "999988    1961-02-25\n",
       "999989    1907-06-26\n",
       "999990    1924-07-19\n",
       "999991    1907-06-26\n",
       "999992    1949-06-07\n",
       "999993    1934-01-23\n",
       "999994    1936-03-13\n",
       "999995    1955-04-18\n",
       "999996    1915-06-24\n",
       "999997    1988-06-28\n",
       "999998    2012-03-02\n",
       "999999    1982-08-26\n",
       "Name: dob, Length: 1000000, dtype: object"
      ]
     },
     "execution_count": 71,
     "metadata": {},
     "output_type": "execute_result"
    }
   ],
   "source": [
    "mydata['dob'] = pd.to_datetime(mydata['dob'], format='%Y%m%d').dt.strftime(\"%Y-%m-%d\"); \n",
    "mydata['dob']"
   ]
  },
  {
   "cell_type": "code",
   "execution_count": 53,
   "metadata": {},
   "outputs": [
    {
     "data": {
      "text/plain": [
       "42673"
      ]
     },
     "execution_count": 53,
     "metadata": {},
     "output_type": "execute_result"
    }
   ],
   "source": [
    "len(mydata['dob'].unique())"
   ]
  },
  {
   "cell_type": "code",
   "execution_count": 54,
   "metadata": {},
   "outputs": [
    {
     "data": {
      "text/plain": [
       "19070626    126568\n",
       "19640318      4818\n",
       "19760625      3723\n",
       "19880628      1404\n",
       "19740216       980\n",
       "20090127       280\n",
       "19460901       135\n",
       "19591208       126\n",
       "19280611       120\n",
       "19670215       102\n",
       "19360908        81\n",
       "19570630        69\n",
       "20010904        69\n",
       "20151012        67\n",
       "20020315        65\n",
       "19860425        56\n",
       "19551013        55\n",
       "19290921        54\n",
       "19400301        52\n",
       "19240409        52\n",
       "19670629        50\n",
       "19530920        50\n",
       "19021213        50\n",
       "20141117        49\n",
       "19680820        49\n",
       "19731101        48\n",
       "19360713        48\n",
       "19830419        47\n",
       "20010907        47\n",
       "19421110        47\n",
       "             ...  \n",
       "19851220         6\n",
       "19741208         6\n",
       "19700314         6\n",
       "19611222         6\n",
       "19970723         6\n",
       "19350608         6\n",
       "20060218         6\n",
       "19110205         6\n",
       "19690416         6\n",
       "19850410         6\n",
       "19061018         6\n",
       "19910531         6\n",
       "19840913         6\n",
       "19611107         6\n",
       "19210701         6\n",
       "19521206         6\n",
       "19280918         6\n",
       "19481018         6\n",
       "19860313         5\n",
       "19330705         5\n",
       "19960904         5\n",
       "20030515         5\n",
       "19470512         5\n",
       "19771023         5\n",
       "19310921         5\n",
       "19280730         5\n",
       "19450523         5\n",
       "19750509         5\n",
       "19190223         5\n",
       "19441127         5\n",
       "Name: dob, Length: 42673, dtype: int64"
      ]
     },
     "execution_count": 54,
     "metadata": {},
     "output_type": "execute_result"
    }
   ],
   "source": [
    "mydata['dob'].value_counts()"
   ]
  },
  {
   "cell_type": "code",
   "execution_count": 72,
   "metadata": {},
   "outputs": [],
   "source": [
    "mydata['dob'] = pd.to_datetime(mydata['dob'])"
   ]
  },
  {
   "cell_type": "code",
   "execution_count": 74,
   "metadata": {},
   "outputs": [],
   "source": [
    "mydata['year'] = mydata['dob'].dt.year"
   ]
  },
  {
   "cell_type": "code",
   "execution_count": 75,
   "metadata": {},
   "outputs": [
    {
     "data": {
      "text/plain": [
       "0         1907\n",
       "1         1934\n",
       "2         1907\n",
       "3         1944\n",
       "4         1998\n",
       "5         1948\n",
       "6         1964\n",
       "7         1919\n",
       "8         1990\n",
       "9         1975\n",
       "10        1940\n",
       "11        1947\n",
       "12        1900\n",
       "13        1940\n",
       "14        1936\n",
       "15        1999\n",
       "16        2008\n",
       "17        1950\n",
       "18        1990\n",
       "19        2006\n",
       "20        1977\n",
       "21        1987\n",
       "22        1958\n",
       "23        1977\n",
       "24        1938\n",
       "25        1969\n",
       "26        1988\n",
       "27        1915\n",
       "28        1989\n",
       "29        1907\n",
       "          ... \n",
       "999970    1994\n",
       "999971    1996\n",
       "999972    1907\n",
       "999973    1951\n",
       "999974    1907\n",
       "999975    1928\n",
       "999976    1952\n",
       "999977    2001\n",
       "999978    2013\n",
       "999979    1944\n",
       "999980    1949\n",
       "999981    1912\n",
       "999982    1931\n",
       "999983    1957\n",
       "999984    1900\n",
       "999985    1915\n",
       "999986    1964\n",
       "999987    2006\n",
       "999988    1961\n",
       "999989    1907\n",
       "999990    1924\n",
       "999991    1907\n",
       "999992    1949\n",
       "999993    1934\n",
       "999994    1936\n",
       "999995    1955\n",
       "999996    1915\n",
       "999997    1988\n",
       "999998    2012\n",
       "999999    1982\n",
       "Name: year, Length: 1000000, dtype: int64"
      ]
     },
     "execution_count": 75,
     "metadata": {},
     "output_type": "execute_result"
    }
   ],
   "source": [
    "mydata['year']"
   ]
  },
  {
   "cell_type": "code",
   "execution_count": 80,
   "metadata": {},
   "outputs": [
    {
     "data": {
      "image/png": "[encoded data removed]",
      "text/plain": [
       "<Figure size 432x288 with 1 Axes>"
      ]
     },
     "metadata": {
      "needs_background": "light"
     },
     "output_type": "display_data"
    }
   ],
   "source": [
    "year=mydata['year'].value_counts().head(25).plot(kind='bar')\n",
    "year.set_yscale('log')"
   ]
  },
  {
   "cell_type": "code",
   "execution_count": 78,
   "metadata": {},
   "outputs": [
    {
     "data": {
      "text/plain": [
       "28244"
      ]
     },
     "execution_count": 78,
     "metadata": {},
     "output_type": "execute_result"
    }
   ],
   "source": [
    "len(mydata['homephone'].unique())"
   ]
  },
  {
   "cell_type": "code",
   "execution_count": 79,
   "metadata": {},
   "outputs": [
    {
     "data": {
      "text/plain": [
       "9999999999    78512\n",
       "6384782007      466\n",
       "6035129044      360\n",
       "2113738531      331\n",
       "4024680535      198\n",
       "2669445638      172\n",
       "6637507363      169\n",
       "8629049955      139\n",
       "3364980740      110\n",
       "1324008228      108\n",
       "6845279110      108\n",
       "8880326532      107\n",
       "2841944187      107\n",
       "5014272561      106\n",
       "8477710704      106\n",
       "6773573704      105\n",
       "3417174496      104\n",
       "6538326086      104\n",
       "7460887672      103\n",
       "1133829511      103\n",
       "1721670786      103\n",
       "5753452592      100\n",
       "6051690361       99\n",
       "4701588077       99\n",
       "7304949596       98\n",
       "1252191250       98\n",
       "7279614471       98\n",
       "7666418262       96\n",
       "4236591930       96\n",
       "5930087830       96\n",
       "              ...  \n",
       "3152497907        1\n",
       "4173896871        1\n",
       "7909661647        1\n",
       "1487242890        1\n",
       "7813229119        1\n",
       "2957613865        1\n",
       "6975375821        1\n",
       "4382854075        1\n",
       "2723400856        1\n",
       "8157246551        1\n",
       "6773922191        1\n",
       "5203848044        1\n",
       "6361389271        1\n",
       "5150223351        1\n",
       "8507465472        1\n",
       "3850395065        1\n",
       "3828148714        1\n",
       "1763757379        1\n",
       "6724376073        1\n",
       "6152426849        1\n",
       "4760204804        1\n",
       "8441986709        1\n",
       "3926552597        1\n",
       "4814622873        1\n",
       "9190239975        1\n",
       "9296466299        1\n",
       "6970852322        1\n",
       "1925750863        1\n",
       "5265623318        1\n",
       "1625814675        1\n",
       "Name: homephone, Length: 28244, dtype: int64"
      ]
     },
     "execution_count": 79,
     "metadata": {},
     "output_type": "execute_result"
    }
   ],
   "source": [
    "mydata['homephone'].value_counts()"
   ]
  },
  {
   "cell_type": "code",
   "execution_count": 81,
   "metadata": {},
   "outputs": [
    {
     "data": {
      "image/png": "[encoded data removed]",
      "text/plain": [
       "<Figure size 432x288 with 1 Axes>"
      ]
     },
     "metadata": {
      "needs_background": "light"
     },
     "output_type": "display_data"
    }
   ],
   "source": [
    "phone=mydata['homephone'].value_counts().head(25).plot(kind='bar')\n",
    "phone.set_yscale('log')"
   ]
  },
  {
   "cell_type": "code",
   "execution_count": 82,
   "metadata": {},
   "outputs": [
    {
     "data": {
      "text/plain": [
       "2"
      ]
     },
     "execution_count": 82,
     "metadata": {},
     "output_type": "execute_result"
    }
   ],
   "source": [
    "len(mydata['fraud_label'].unique())"
   ]
  },
  {
   "cell_type": "code",
   "execution_count": 83,
   "metadata": {},
   "outputs": [
    {
     "data": {
      "text/plain": [
       "0    985607\n",
       "1     14393\n",
       "Name: fraud_label, dtype: int64"
      ]
     },
     "execution_count": 83,
     "metadata": {},
     "output_type": "execute_result"
    }
   ],
   "source": [
    "mydata['fraud_label'].value_counts()"
   ]
  },
  {
   "cell_type": "code",
   "execution_count": 84,
   "metadata": {},
   "outputs": [
    {
     "data": {
      "image/png": "[encoded data removed]",
      "text/plain": [
       "<Figure size 432x288 with 1 Axes>"
      ]
     },
     "metadata": {
      "needs_background": "light"
     },
     "output_type": "display_data"
    }
   ],
   "source": [
    "fraud = sns.countplot(x='fraud_label', data = mydata)\n",
    "fraud.set_yscale('log')"
   ]
  },
  {
   "cell_type": "code",
   "execution_count": null,
   "metadata": {},
   "outputs": [],
   "source": []
  }
 ],
 "metadata": {
  "kernelspec": {
   "display_name": "Python 3",
   "language": "python",
   "name": "python3"
  },
  "language_info": {
   "codemirror_mode": {
    "name": "ipython",
    "version": 3
   },
   "file_extension": ".py",
   "mimetype": "text/x-python",
   "name": "python",
   "nbconvert_exporter": "python",
   "pygments_lexer": "ipython3",
   "version": "3.7.1"
  }
 },
 "nbformat": 4,
 "nbformat_minor": 2
}
